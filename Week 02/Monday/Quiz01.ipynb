{
 "cells": [
  {
   "cell_type": "markdown",
   "id": "a456d1a1-b81b-466b-816b-d6accaad7a85",
   "metadata": {},
   "source": [
    "# Question 1"
   ]
  },
  {
   "cell_type": "raw",
   "id": "2e6df386-4e5c-486f-8623-25355fd3c940",
   "metadata": {},
   "source": [
    "What is the output of the individual cells. (1 point each)\n",
    "\n",
    "If there is an error on any of the cells, report the error. (1 point each)\n",
    "\n",
    "Propose a fix for the error. (1 point each)"
   ]
  },
  {
   "cell_type": "markdown",
   "id": "aaa2eb1a-9954-42a3-a57a-1452b67d9286",
   "metadata": {},
   "source": [
    "# Cell 1"
   ]
  },
  {
   "cell_type": "code",
   "execution_count": 6,
   "id": "13e40b54-7a4f-4de2-a09f-4c127679faa1",
   "metadata": {},
   "outputs": [
    {
     "ename": "SyntaxError",
     "evalue": "unterminated string literal (detected at line 1) (3584330437.py, line 1)",
     "output_type": "error",
     "traceback": [
      "\u001b[1;36m  Cell \u001b[1;32mIn[6], line 1\u001b[1;36m\u001b[0m\n\u001b[1;33m    print(Hallo Class\")\u001b[0m\n\u001b[1;37m                     ^\u001b[0m\n\u001b[1;31mSyntaxError\u001b[0m\u001b[1;31m:\u001b[0m unterminated string literal (detected at line 1)\n"
     ]
    }
   ],
   "source": [
    "print(Hallo Class\")"
   ]
  },
  {
   "cell_type": "code",
   "execution_count": 7,
   "id": "50ef8649-441d-4b4f-b539-8f1fc502416c",
   "metadata": {},
   "outputs": [
    {
     "name": "stdout",
     "output_type": "stream",
     "text": [
      "Hallo Class\n"
     ]
    }
   ],
   "source": [
    "print(\"Hallo Class\")"
   ]
  },
  {
   "cell_type": "markdown",
   "id": "99ab67a1-ddfc-4f5c-b957-dddeb6ec787c",
   "metadata": {},
   "source": [
    "# Cell 2"
   ]
  },
  {
   "cell_type": "code",
   "execution_count": 5,
   "id": "aab69f50-59bd-458e-97d4-35ebc1496f4f",
   "metadata": {},
   "outputs": [
    {
     "ename": "SyntaxError",
     "evalue": "unterminated string literal (detected at line 1) (136497206.py, line 1)",
     "output_type": "error",
     "traceback": [
      "\u001b[1;36m  Cell \u001b[1;32mIn[5], line 1\u001b[1;36m\u001b[0m\n\u001b[1;33m    print(\"Hallo Class)\u001b[0m\n\u001b[1;37m          ^\u001b[0m\n\u001b[1;31mSyntaxError\u001b[0m\u001b[1;31m:\u001b[0m unterminated string literal (detected at line 1)\n"
     ]
    }
   ],
   "source": [
    "print(\"Hallo Class)"
   ]
  },
  {
   "cell_type": "code",
   "execution_count": 8,
   "id": "131d6c85-3011-40cc-a59f-37a51f443ba4",
   "metadata": {},
   "outputs": [
    {
     "name": "stdout",
     "output_type": "stream",
     "text": [
      "Hallo Class\n"
     ]
    }
   ],
   "source": [
    "print(\"Hallo Class\")"
   ]
  },
  {
   "cell_type": "markdown",
   "id": "c31a3835-a158-4e1f-9c00-efee56718638",
   "metadata": {},
   "source": [
    "# Cell 3"
   ]
  },
  {
   "cell_type": "code",
   "execution_count": 9,
   "id": "a61e36dc-2d65-4f29-8918-f9c614c0bd73",
   "metadata": {},
   "outputs": [
    {
     "name": "stdout",
     "output_type": "stream",
     "text": [
      "Helo Class\n"
     ]
    }
   ],
   "source": [
    "print(\"Helo Class\")"
   ]
  },
  {
   "cell_type": "code",
   "execution_count": 15,
   "id": "2e087224-a92f-4d29-b61e-6f0bdc095e01",
   "metadata": {},
   "outputs": [
    {
     "name": "stdout",
     "output_type": "stream",
     "text": [
      "Hello Class\n"
     ]
    }
   ],
   "source": [
    "print(\"Hello Class\")"
   ]
  },
  {
   "cell_type": "markdown",
   "id": "3bab0365-5067-4a40-b001-6febeca46358",
   "metadata": {},
   "source": [
    "# Cell 4"
   ]
  },
  {
   "cell_type": "code",
   "execution_count": 10,
   "id": "8438fac7-0cb6-41f8-95b4-806b25680401",
   "metadata": {},
   "outputs": [
    {
     "ename": "SyntaxError",
     "evalue": "unterminated string literal (detected at line 1) (1449310505.py, line 1)",
     "output_type": "error",
     "traceback": [
      "\u001b[1;36m  Cell \u001b[1;32mIn[10], line 1\u001b[1;36m\u001b[0m\n\u001b[1;33m    print(Hallo Class')\u001b[0m\n\u001b[1;37m                     ^\u001b[0m\n\u001b[1;31mSyntaxError\u001b[0m\u001b[1;31m:\u001b[0m unterminated string literal (detected at line 1)\n"
     ]
    }
   ],
   "source": [
    "print(Hallo Class')"
   ]
  },
  {
   "cell_type": "code",
   "execution_count": 11,
   "id": "3b9ebf9b-769c-4532-bc3b-50d25a976f4d",
   "metadata": {},
   "outputs": [
    {
     "name": "stdout",
     "output_type": "stream",
     "text": [
      "Hallo Class\n"
     ]
    }
   ],
   "source": [
    "print('Hallo Class')"
   ]
  },
  {
   "cell_type": "markdown",
   "id": "7396ea17-9fa8-445a-8272-370b7cb2f043",
   "metadata": {},
   "source": [
    "# Cell 5"
   ]
  },
  {
   "cell_type": "code",
   "execution_count": 12,
   "id": "21335c01-a67a-4dc9-8c75-a7860bafc184",
   "metadata": {},
   "outputs": [
    {
     "ename": "SyntaxError",
     "evalue": "unterminated string literal (detected at line 1) (1535394561.py, line 1)",
     "output_type": "error",
     "traceback": [
      "\u001b[1;36m  Cell \u001b[1;32mIn[12], line 1\u001b[1;36m\u001b[0m\n\u001b[1;33m    print('Hallo Class)\u001b[0m\n\u001b[1;37m          ^\u001b[0m\n\u001b[1;31mSyntaxError\u001b[0m\u001b[1;31m:\u001b[0m unterminated string literal (detected at line 1)\n"
     ]
    }
   ],
   "source": [
    "print('Hallo Class)"
   ]
  },
  {
   "cell_type": "code",
   "execution_count": 13,
   "id": "d2208756-87cc-4101-9c4e-12959e897aac",
   "metadata": {},
   "outputs": [
    {
     "name": "stdout",
     "output_type": "stream",
     "text": [
      "Hallo Class\n"
     ]
    }
   ],
   "source": [
    "print('Hallo Class')"
   ]
  },
  {
   "cell_type": "markdown",
   "id": "cd7d00a3-b275-4333-9275-078d60220364",
   "metadata": {},
   "source": [
    "# Cell 6"
   ]
  },
  {
   "cell_type": "code",
   "execution_count": 16,
   "id": "73d0f3aa-8fdf-44a1-8c05-1968fa585aec",
   "metadata": {},
   "outputs": [
    {
     "name": "stdout",
     "output_type": "stream",
     "text": [
      "Hello Clas\n"
     ]
    }
   ],
   "source": [
    "print('Hello Clas')"
   ]
  },
  {
   "cell_type": "code",
   "execution_count": 17,
   "id": "6663f157-7a34-4ed2-b18b-7f08e26709be",
   "metadata": {},
   "outputs": [
    {
     "name": "stdout",
     "output_type": "stream",
     "text": [
      "Hello Class\n"
     ]
    }
   ],
   "source": [
    "print('Hello Class')"
   ]
  },
  {
   "cell_type": "markdown",
   "id": "29a67bf6-60d2-4a8c-9718-21392169add5",
   "metadata": {},
   "source": [
    "# Cell 7"
   ]
  },
  {
   "cell_type": "code",
   "execution_count": 19,
   "id": "22e2d43d-f9fb-4073-8177-a018ce42c68d",
   "metadata": {},
   "outputs": [
    {
     "ename": "SyntaxError",
     "evalue": "unterminated string literal (detected at line 1) (337988708.py, line 1)",
     "output_type": "error",
     "traceback": [
      "\u001b[1;36m  Cell \u001b[1;32mIn[19], line 1\u001b[1;36m\u001b[0m\n\u001b[1;33m    print(\"Hello Class')\u001b[0m\n\u001b[1;37m          ^\u001b[0m\n\u001b[1;31mSyntaxError\u001b[0m\u001b[1;31m:\u001b[0m unterminated string literal (detected at line 1)\n"
     ]
    }
   ],
   "source": [
    "print(\"Hello Class')"
   ]
  },
  {
   "cell_type": "code",
   "execution_count": 20,
   "id": "d446f967-705a-4921-997f-4dcd228c41f7",
   "metadata": {},
   "outputs": [
    {
     "name": "stdout",
     "output_type": "stream",
     "text": [
      "Hello Class\n"
     ]
    }
   ],
   "source": [
    "print(\"Hello Class\")"
   ]
  },
  {
   "cell_type": "markdown",
   "id": "ec73474c-1f54-44f4-88d6-473013e00633",
   "metadata": {},
   "source": [
    "# Cell 8 "
   ]
  },
  {
   "cell_type": "code",
   "execution_count": 21,
   "id": "9c149184-06b6-4893-8e91-1de679169b79",
   "metadata": {},
   "outputs": [
    {
     "ename": "SyntaxError",
     "evalue": "unterminated string literal (detected at line 1) (1961561829.py, line 1)",
     "output_type": "error",
     "traceback": [
      "\u001b[1;36m  Cell \u001b[1;32mIn[21], line 1\u001b[1;36m\u001b[0m\n\u001b[1;33m    print('Hello Class\")\u001b[0m\n\u001b[1;37m          ^\u001b[0m\n\u001b[1;31mSyntaxError\u001b[0m\u001b[1;31m:\u001b[0m unterminated string literal (detected at line 1)\n"
     ]
    }
   ],
   "source": [
    "print('Hello Class\") "
   ]
  },
  {
   "cell_type": "code",
   "execution_count": 22,
   "id": "29b1edfa-d1d2-413b-873c-89fd51569ec2",
   "metadata": {},
   "outputs": [
    {
     "name": "stdout",
     "output_type": "stream",
     "text": [
      "Hello Class\n"
     ]
    }
   ],
   "source": [
    "print('Hello Class') "
   ]
  },
  {
   "cell_type": "markdown",
   "id": "c46c2aac-acd6-4a40-a74c-cd730cc82e1d",
   "metadata": {},
   "source": [
    "# Cell 9"
   ]
  },
  {
   "cell_type": "code",
   "execution_count": 23,
   "id": "3794d9bf-8a90-4b8f-9a47-4d7c9ac86c4c",
   "metadata": {},
   "outputs": [
    {
     "name": "stdout",
     "output_type": "stream",
     "text": [
      "Hello' Class\n"
     ]
    }
   ],
   "source": [
    "print(\"Hello' Class\")"
   ]
  },
  {
   "cell_type": "code",
   "execution_count": 24,
   "id": "83103d4a-836c-404b-ad2d-18ac2b899abe",
   "metadata": {},
   "outputs": [
    {
     "name": "stdout",
     "output_type": "stream",
     "text": [
      "Hello Class\n"
     ]
    }
   ],
   "source": [
    "print(\"Hello Class\")"
   ]
  },
  {
   "cell_type": "markdown",
   "id": "c7b5c200-591b-451b-97a5-2374bb5292c2",
   "metadata": {},
   "source": [
    "# Cell 10"
   ]
  },
  {
   "cell_type": "code",
   "execution_count": 25,
   "id": "b1693a26-13da-4e1b-89e2-f1c3aac8555d",
   "metadata": {},
   "outputs": [
    {
     "ename": "SyntaxError",
     "evalue": "unterminated string literal (detected at line 1) (344880365.py, line 1)",
     "output_type": "error",
     "traceback": [
      "\u001b[1;36m  Cell \u001b[1;32mIn[25], line 1\u001b[1;36m\u001b[0m\n\u001b[1;33m    print('Hello Class'\")\u001b[0m\n\u001b[1;37m                       ^\u001b[0m\n\u001b[1;31mSyntaxError\u001b[0m\u001b[1;31m:\u001b[0m unterminated string literal (detected at line 1)\n"
     ]
    }
   ],
   "source": [
    "print('Hello Class'\") "
   ]
  },
  {
   "cell_type": "code",
   "execution_count": 26,
   "id": "fe0d3781-477d-41be-a3be-93855dd17655",
   "metadata": {},
   "outputs": [
    {
     "name": "stdout",
     "output_type": "stream",
     "text": [
      "Hello Class\n"
     ]
    }
   ],
   "source": [
    "print('Hello Class') "
   ]
  },
  {
   "cell_type": "code",
   "execution_count": null,
   "id": "52f98452-5f1f-4c2f-9291-c4be76447ff3",
   "metadata": {},
   "outputs": [],
   "source": []
  }
 ],
 "metadata": {
  "kernelspec": {
   "display_name": "Python 3 (ipykernel)",
   "language": "python",
   "name": "python3"
  },
  "language_info": {
   "codemirror_mode": {
    "name": "ipython",
    "version": 3
   },
   "file_extension": ".py",
   "mimetype": "text/x-python",
   "name": "python",
   "nbconvert_exporter": "python",
   "pygments_lexer": "ipython3",
   "version": "3.12.4"
  }
 },
 "nbformat": 4,
 "nbformat_minor": 5
}
