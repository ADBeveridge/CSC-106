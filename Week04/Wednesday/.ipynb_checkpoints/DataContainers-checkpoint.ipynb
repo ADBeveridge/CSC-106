{
 "cells": [
  {
   "cell_type": "code",
   "execution_count": 1,
   "id": "a8e1d739",
   "metadata": {},
   "outputs": [],
   "source": [
    "List1 = {1,2,3,4}"
   ]
  },
  {
   "cell_type": "code",
   "execution_count": 2,
   "id": "d494b98b",
   "metadata": {},
   "outputs": [],
   "source": [
    "L1 = {1, 1.1, \"A\", True}"
   ]
  },
  {
   "cell_type": "code",
   "execution_count": 1,
   "id": "d5ace279",
   "metadata": {},
   "outputs": [],
   "source": [
    "Tuple1 = (1, 2, 3, 4)"
   ]
  },
  {
   "cell_type": "code",
   "execution_count": 2,
   "id": "e15133c1",
   "metadata": {},
   "outputs": [],
   "source": [
    "Tuple2 = (1, 2.3, '5', True)"
   ]
  },
  {
   "cell_type": "code",
   "execution_count": 6,
   "id": "3469fc15",
   "metadata": {},
   "outputs": [
    {
     "name": "stdout",
     "output_type": "stream",
     "text": [
      "True\n"
     ]
    }
   ],
   "source": [
    "print(Tuple2[3])"
   ]
  },
  {
   "cell_type": "code",
   "execution_count": 7,
   "id": "344d3511",
   "metadata": {},
   "outputs": [
    {
     "name": "stdout",
     "output_type": "stream",
     "text": [
      "True\n"
     ]
    }
   ],
   "source": [
    "print(Tuple2[-1])"
   ]
  },
  {
   "cell_type": "code",
   "execution_count": 16,
   "id": "b9f91749",
   "metadata": {},
   "outputs": [
    {
     "name": "stdout",
     "output_type": "stream",
     "text": [
      "(2.3, '5')\n"
     ]
    }
   ],
   "source": [
    "print(str(Tuple2[1:3]))"
   ]
  },
  {
   "cell_type": "code",
   "execution_count": null,
   "id": "adc2a3a3",
   "metadata": {},
   "outputs": [],
   "source": [
    "Dict1 = {\n",
    "    \"School\" : \"University of Mary\"\n",
    "    \"Year\": 2024\n",
    "    \"City\": \"Bismarck\"\n",
    "}"
   ]
  }
 ],
 "metadata": {
  "kernelspec": {
   "display_name": "Python 3 (ipykernel)",
   "language": "python",
   "name": "python3"
  },
  "language_info": {
   "codemirror_mode": {
    "name": "ipython",
    "version": 3
   },
   "file_extension": ".py",
   "mimetype": "text/x-python",
   "name": "python",
   "nbconvert_exporter": "python",
   "pygments_lexer": "ipython3",
   "version": "3.12.3"
  }
 },
 "nbformat": 4,
 "nbformat_minor": 5
}
