{
 "cells": [
  {
   "cell_type": "code",
   "execution_count": 5,
   "id": "7d9ef1a5-cf01-47d9-9dd1-cf60989e0243",
   "metadata": {},
   "outputs": [],
   "source": [
    "a=1\n",
    "b=1\n",
    "c=1"
   ]
  },
  {
   "cell_type": "code",
   "execution_count": 6,
   "id": "21b85982-968c-43c1-83c4-36256faa6757",
   "metadata": {},
   "outputs": [],
   "source": [
    "import cmath"
   ]
  },
  {
   "cell_type": "code",
   "execution_count": 7,
   "id": "177600e8-8900-4fa5-a855-24caf31de9fb",
   "metadata": {},
   "outputs": [],
   "source": [
    "discriminant = (b*b) - (4*a*c)"
   ]
  },
  {
   "cell_type": "code",
   "execution_count": 8,
   "id": "4323b634-610b-42a0-8c97-30eb44417903",
   "metadata": {},
   "outputs": [],
   "source": [
    "sqrtdis = cmath.sqrt(discriminant)"
   ]
  },
  {
   "cell_type": "code",
   "execution_count": 9,
   "id": "614b1020-775e-43af-a1ba-42aba6457289",
   "metadata": {},
   "outputs": [],
   "source": [
    "ans1 = ((-1*b) + sqrtdis) / 2*a"
   ]
  },
  {
   "cell_type": "code",
   "execution_count": 10,
   "id": "fb37fc93-5096-409e-a393-62aa84ca7d0e",
   "metadata": {},
   "outputs": [],
   "source": [
    "ans2 = ((-1*b) - sqrtdis) / 2*a"
   ]
  },
  {
   "cell_type": "code",
   "execution_count": 11,
   "id": "fbb6ebf7-9c8a-43d1-b281-a77775fc105c",
   "metadata": {},
   "outputs": [
    {
     "name": "stdout",
     "output_type": "stream",
     "text": [
      "(-0.5+0.8660254037844386j) (-0.5-0.8660254037844386j)\n"
     ]
    }
   ],
   "source": [
    "print(str(ans1) + \" \" + str(ans2))"
   ]
  },
  {
   "cell_type": "code",
   "execution_count": null,
   "id": "9418f10d-fe90-4ee2-a653-5e9f7b0e53ef",
   "metadata": {},
   "outputs": [],
   "source": []
  }
 ],
 "metadata": {
  "kernelspec": {
   "display_name": "Python 3 (ipykernel)",
   "language": "python",
   "name": "python3"
  },
  "language_info": {
   "codemirror_mode": {
    "name": "ipython",
    "version": 3
   },
   "file_extension": ".py",
   "mimetype": "text/x-python",
   "name": "python",
   "nbconvert_exporter": "python",
   "pygments_lexer": "ipython3",
   "version": "3.12.4"
  }
 },
 "nbformat": 4,
 "nbformat_minor": 5
}
